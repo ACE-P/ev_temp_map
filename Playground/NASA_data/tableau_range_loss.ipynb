{
 "cells": [
  {
   "cell_type": "markdown",
   "metadata": {},
   "source": [
    "# Calculate Range Loss\n",
    "This notebook calculates range loss due to temperature. Range loss vs temperature data are from Geotab with extrapolation"
   ]
  },
  {
   "cell_type": "code",
   "execution_count": 1,
   "metadata": {},
   "outputs": [],
   "source": [
    "import os\n",
    "\n",
    "import numpy as np\n",
    "import pandas as pd\n",
    "import matplotlib.pyplot as plt\n",
    "import netCDF4 as nc\n",
    "import geojsoncontour"
   ]
  },
  {
   "cell_type": "markdown",
   "metadata": {},
   "source": [
    "## Get temperature data from NASA"
   ]
  },
  {
   "cell_type": "markdown",
   "metadata": {},
   "source": [
    "Define some constants"
   ]
  },
  {
   "cell_type": "code",
   "execution_count": 2,
   "metadata": {},
   "outputs": [],
   "source": [
    "DATA_FILE_DIR = \"./nasa/\"\n",
    "\n",
    "START_YEAR, END_YEAR = 2010, 2020\n",
    "\n",
    "NUM_OF_YEARS = END_YEAR - START_YEAR\n",
    "\n",
    "NUM_OF_MONTHS = 12\n",
    "\n",
    "NUM_OF_DAYS = {1: 31, 2: 28, 3: 31, 4: 30, 5: 31, 6: 30, 7: 31, 8: 31, 9: 30, 10: 31, 11: 30, 12: 31}"
   ]
  },
  {
   "cell_type": "markdown",
   "metadata": {},
   "source": [
    "The source data format is `netCDF4`.  \n",
    "First, We need to use any of the source files to extract latitudes and longitudes"
   ]
  },
  {
   "cell_type": "code",
   "execution_count": 3,
   "metadata": {},
   "outputs": [],
   "source": [
    "file = nc.Dataset(DATA_FILE_DIR+'20110101.nc4')\n",
    "\n",
    "lat = file.variables['lat'][:].filled()\n",
    "lon = file.variables['lon'][:].filled()\n",
    "# we will use this mask later\n",
    "mask = file.variables['AvgSurfT_tavg'][0].mask\n",
    "\n",
    "LON = len(lon)\n",
    "LAT = len(lat)\n",
    "\n",
    "file.close()"
   ]
  },
  {
   "cell_type": "markdown",
   "metadata": {},
   "source": [
    "Read the range loss vs temperature data from Geotab"
   ]
  },
  {
   "cell_type": "code",
   "execution_count": 5,
   "metadata": {},
   "outputs": [],
   "source": [
    "scale_factors = pd.read_csv(\"./Geotab data/fitted_factors.csv\")\n",
    "percent_loss = scale_factors[\"Range Loss\"].to_numpy()"
   ]
  },
  {
   "cell_type": "code",
   "execution_count": 4,
   "metadata": {},
   "outputs": [],
   "source": [
    "def get_tmp(filepath):\n",
    "    \"\"\"\n",
    "    This function extracts temperature data from the given filepath\n",
    "    \n",
    "    # Arguements:\n",
    "        filepath: A string that specifies the file to be read\n",
    "    # Returns:\n",
    "        The data temperature in the file\n",
    "    \"\"\"\n",
    "    assert os.path.isfile(filepath), '{} does not exist!'.format(filepath)\n",
    "    \n",
    "    file = nc.Dataset(filepath)\n",
    "    temperature = file.variables['AvgSurfT_tavg'][0]\n",
    "    file.close()\n",
    "    \n",
    "    return temperature.filled(np.nan)"
   ]
  },
  {
   "cell_type": "markdown",
   "metadata": {},
   "source": [
    "Calculate the average daily range loss of the last 10 years  \n",
    "This algorithm is a little weird but it works. Because we only have range loss data from -40oC to 52oC, we consider on days when temperature is below -40, the range loss is 100%. If the temperature is greater than -40, we calculate how much the temperature is above -40 (-(-40) == +40). Also, because our precision is 0.1oC, we divide the number by 0.1 and will get an integer. Last, we use this integer as the index to get the range loss in the range loss vs temperature array.  "
   ]
  },
  {
   "cell_type": "code",
   "execution_count": 6,
   "metadata": {},
   "outputs": [
    {
     "name": "stdout",
     "output_type": "stream",
     "text": [
      "2010\n",
      "2011\n",
      "2012\n",
      "2013\n",
      "2014\n",
      "2015\n",
      "2016\n",
      "2017\n",
      "2018\n",
      "2019\n",
      "Wall time: 45min 3s\n"
     ]
    }
   ],
   "source": [
    "%%time\n",
    "each_year_avg_loss = np.zeros(shape=(NUM_OF_YEARS, LAT, LON))\n",
    "for year in range(START_YEAR, END_YEAR):\n",
    "    print(year, end=' ')\n",
    "    # store one year of daily temperature for every location available\n",
    "    yearly_temp = np.ndarray(shape=(365, LAT, LON))\n",
    "    \n",
    "    i = 0\n",
    "    for month in range(1, NUM_OF_MONTHS+1):\n",
    "        for day in range(1, NUM_OF_DAYS[month]+1):\n",
    "            date = \"{}{:02d}{:02d}\".format(year, month, day)\n",
    "            filepath = DATA_FILE_DIR + date + '.nc4'\n",
    "            yearly_temp[i] = get_tmp(filepath)\n",
    "            i += 1\n",
    "    # round the temperature to 1 decimal\n",
    "    yearly_temp = np.round(yearly_temp-273.15, decimals=1) # 250.15K = -23oC\n",
    "    \n",
    "    # start calculating range loss. This is an inefficient and not smart method but works\n",
    "    yearly_loss = np.ndarray(shape=(LAT, LON))\n",
    "    for i in range(LAT):\n",
    "        for j in range(LON):\n",
    "            # we only want to calculate for land\n",
    "            if (not mask[i,j]):\n",
    "                loss_sum = 0\n",
    "                for k in range(365):\n",
    "                    # we consider range loss to be 100% if a day's temperature is below -40\n",
    "                    if yearly_temp[k,i,j] < -40:\n",
    "                        loss_sum += -100\n",
    "                    else:\n",
    "                        # here is the \"weird\" part, I encourage you to look into percent_loss\n",
    "                        index = int((yearly_temp[k,i,j]+40)*10) # +40 means -(-40), *10 means /0.1\n",
    "                        loss_sum += percent_loss[index]\n",
    "                # daily average\n",
    "                yearly_loss[i, j] = loss_sum/365\n",
    "\n",
    "    each_year_avg_loss[year-START_YEAR] = yearly_loss"
   ]
  },
  {
   "cell_type": "code",
   "execution_count": 14,
   "metadata": {},
   "outputs": [],
   "source": [
    "# we further average daily range loss over the last 10 years\n",
    "avg_loss = each_year_avg_loss.mean(axis=0)\n",
    "\n",
    "# filter out ocean data\n",
    "avg_loss = np.ma.array(avg_loss, mask=mask, fill_value=np.nan)"
   ]
  },
  {
   "cell_type": "markdown",
   "metadata": {},
   "source": [
    "## Draw the contour map"
   ]
  },
  {
   "cell_type": "code",
   "execution_count": 17,
   "metadata": {},
   "outputs": [
    {
     "data": {
      "text/plain": [
       "-66.61731678147673"
      ]
     },
     "execution_count": 17,
     "metadata": {},
     "output_type": "execute_result"
    }
   ],
   "source": [
    "# we first need to know the lower and upper limit of range loss.\n",
    "print(np.nanmin(avg_loss))"
   ]
  },
  {
   "cell_type": "code",
   "execution_count": 18,
   "metadata": {},
   "outputs": [],
   "source": [
    "# levels to draw contour lines at\n",
    "levels = [-70, -60, -50, -40, -30, -20, -10, 0]"
   ]
  },
  {
   "cell_type": "code",
   "execution_count": 20,
   "metadata": {},
   "outputs": [
    {
     "data": {
      "image/png": "[encoded data removed]",
      "text/plain": [
       "<Figure size 432x288 with 1 Axes>"
      ]
     },
     "metadata": {
      "needs_background": "light"
     },
     "output_type": "display_data"
    }
   ],
   "source": [
    "# mesh x and y (lon and lat coordinates)\n",
    "x_mesh, y_mesh = np.meshgrid(lon, lat)\n",
    "\n",
    "# z_mesh\n",
    "z_mesh = avg_loss\n",
    "\n",
    "# create the contour plot\n",
    "# the color of the map doesn't matter as long as the contours are correct,\n",
    "# because Tableau won't read any color information\n",
    "contourf = plt.contourf(x_mesh, y_mesh, z_mesh, linestyles=\"None\", levels=levels)"
   ]
  },
  {
   "cell_type": "markdown",
   "metadata": {},
   "source": [
    "save the map in geojson format"
   ]
  },
  {
   "cell_type": "code",
   "execution_count": 21,
   "metadata": {},
   "outputs": [],
   "source": [
    "os.makedirs(\"./geojson_files\", exist_ok=True)\n",
    "geojsoncontour.contourf_to_geojson(contourf, geojson_filepath=\"./geojson_files/avg_loss.geojson\")"
   ]
  }
 ],
 "metadata": {
  "kernelspec": {
   "display_name": "Python 3",
   "language": "python",
   "name": "python3"
  },
  "language_info": {
   "codemirror_mode": {
    "name": "ipython",
    "version": 3
   },
   "file_extension": ".py",
   "mimetype": "text/x-python",
   "name": "python",
   "nbconvert_exporter": "python",
   "pygments_lexer": "ipython3",
   "version": "3.8.3"
  }
 },
 "nbformat": 4,
 "nbformat_minor": 4
}
