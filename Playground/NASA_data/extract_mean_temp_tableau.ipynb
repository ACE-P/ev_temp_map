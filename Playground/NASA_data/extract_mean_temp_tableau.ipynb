{
 "cells": [
  {
   "cell_type": "code",
   "execution_count": null,
   "metadata": {},
   "outputs": [],
   "source": [
    "import os\n",
    "\n",
    "import pandas as pd\n",
    "import netCDF4 as nc\n",
    "import numpy as np"
   ]
  },
  {
   "cell_type": "code",
   "execution_count": null,
   "metadata": {},
   "outputs": [],
   "source": [
    "DATA_FILE_DIR = './data/'\n",
    "\n",
    "START_YEAR, END_YEAR = 2010, 2020\n",
    "\n",
    "NUM_OF_YEARS = END_YEAR - START_YEAR\n",
    "\n",
    "NUM_OF_MONTHS = 12\n",
    "\n",
    "NUM_OF_DAYS = {1: 31, 2: 28, 3: 31, 4: 30, 5: 31, 6: 30, 7: 31, 8: 31, 9: 30, 10: 31, 11: 30, 12: 31,}"
   ]
  },
  {
   "cell_type": "code",
   "execution_count": null,
   "metadata": {},
   "outputs": [],
   "source": [
    "file = nc.Dataset('./data/20110101.nc4')"
   ]
  },
  {
   "cell_type": "code",
   "execution_count": null,
   "metadata": {},
   "outputs": [],
   "source": [
    "lat = file.variables['lat'][:].filled()\n",
    "lon = file.variables['lon'][:].filled()\n",
    "tmp = file.variables['AvgSurfT_tavg'][0]\n",
    "num_of_loc = tmp.size - tmp.mask.sum()\n",
    "file.close()"
   ]
  },
  {
   "cell_type": "code",
   "execution_count": null,
   "metadata": {},
   "outputs": [],
   "source": [
    "LAT = lat.size\n",
    "LON = lon.size"
   ]
  },
  {
   "cell_type": "code",
   "execution_count": null,
   "metadata": {},
   "outputs": [],
   "source": [
    "locations = np.zeros(shape=(num_of_loc, 2))\n",
    "count = 0\n",
    "for i in range(LAT):\n",
    "    for j in range(LON):\n",
    "        if not tmp.mask[i, j]:\n",
    "            locations[count] = [lat[i], lon[j]]\n",
    "            count += 1\n",
    "yearly_mean = pd.DataFrame(locations, columns=['lat', 'lon'], dtype='float32')"
   ]
  },
  {
   "cell_type": "code",
   "execution_count": null,
   "metadata": {},
   "outputs": [],
   "source": [
    "def get_tmp(filepath):\n",
    "    assert os.path.isfile(filepath), '{} does not exist!'.format(filepath)\n",
    "    \n",
    "    file = nc.Dataset(filepath)\n",
    "    temperature = file.variables['AvgSurfT_tavg'][0]\n",
    "    file.close()\n",
    "    return temperature.filled(np.nan)"
   ]
  },
  {
   "cell_type": "code",
   "execution_count": null,
   "metadata": {
    "scrolled": true
   },
   "outputs": [],
   "source": [
    "%%time\n",
    "date_temp = pd.DataFrame()\n",
    "for month in range(1, NUM_OF_MONTHS+1):\n",
    "    for day in range(1, NUM_OF_DAYS[month]+1):\n",
    "        date = '{:02d}{:02d}'.format(month, day)\n",
    "        print(date)\n",
    "        temps = np.ndarray(shape=(NUM_OF_YEARS, LAT, LON))\n",
    "        for year in range(START_YEAR, END_YEAR):\n",
    "            day = str(year) + date\n",
    "            filepath = DATA_FILE_DIR + day + '.nc4'\n",
    "            temps[year-START_YEAR] = get_tmp(filepath)\n",
    "            \n",
    "        mean_temps = np.nanmean(temps, axis=0)\n",
    "        mean_temps = mean_temps.reshape(-1)\n",
    "        date_temp[date] = mean_temps[~np.isnan(mean_temps)]\n",
    "\n",
    "date_temp -= 273.15\n",
    "date_temp = date_temp.round(decimals=1)\n",
    "\n",
    "yearly_mean = pd.concat([yearly_mean, date_temp], axis=1)"
   ]
  },
  {
   "cell_type": "code",
   "execution_count": null,
   "metadata": {},
   "outputs": [],
   "source": [
    "os.makedirs('./processed_mean/', exist_ok=True)\n",
    "yearly_mean.to_csv('./processed_mean/processed_yearly_avg.csv', index=False)"
   ]
  }
 ],
 "metadata": {
  "kernelspec": {
   "display_name": "Python 3",
   "language": "python",
   "name": "python3"
  },
  "language_info": {
   "codemirror_mode": {
    "name": "ipython",
    "version": 3
   },
   "file_extension": ".py",
   "mimetype": "text/x-python",
   "name": "python",
   "nbconvert_exporter": "python",
   "pygments_lexer": "ipython3",
   "version": "3.8.2"
  }
 },
 "nbformat": 4,
 "nbformat_minor": 4
}
