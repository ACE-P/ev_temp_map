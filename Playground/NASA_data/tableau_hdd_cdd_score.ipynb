{
 "cells": [
  {
   "cell_type": "code",
   "execution_count": 1,
   "metadata": {},
   "outputs": [],
   "source": [
    "import os\n",
    "\n",
    "import numpy as np\n",
    "import pandas as pd\n",
    "import matplotlib.pyplot as plt\n",
    "import netCDF4 as nc\n",
    "import geojsoncontour"
   ]
  },
  {
   "cell_type": "code",
   "execution_count": 2,
   "metadata": {},
   "outputs": [],
   "source": [
    "DATA_FILE_DIR = \"./nasa/\"\n",
    "\n",
    "START_YEAR, END_YEAR = 2010, 2020\n",
    "\n",
    "NUM_OF_YEARS = END_YEAR - START_YEAR\n",
    "\n",
    "NUM_OF_MONTHS = 12\n",
    "\n",
    "NUM_OF_DAYS = {1: 31, 2: 28, 3: 31, 4: 30, 5: 31, 6: 30, 7: 31, 8: 31, 9: 30, 10: 31, 11: 30, 12: 31}"
   ]
  },
  {
   "cell_type": "code",
   "execution_count": 4,
   "metadata": {},
   "outputs": [],
   "source": [
    "file = nc.Dataset(DATA_FILE_DIR+'20110101.nc4')\n",
    "\n",
    "lat = file.variables['lat'][:].filled()\n",
    "lon = file.variables['lon'][:].filled()\n",
    "# we will use this mask later\n",
    "mask = file.variables['AvgSurfT_tavg'][0].mask\n",
    "\n",
    "LON = len(lon)\n",
    "LAT = len(lat)\n",
    "\n",
    "file.close()"
   ]
  },
  {
   "cell_type": "code",
   "execution_count": 5,
   "metadata": {},
   "outputs": [],
   "source": [
    "def get_tmp(filepath):\n",
    "    assert os.path.isfile(filepath), '{} does not exist!'.format(filepath)\n",
    "    \n",
    "    file = nc.Dataset(filepath)\n",
    "    temperature = file.variables['AvgSurfT_tavg'][0]\n",
    "    file.close()\n",
    "    return temperature.filled(np.nan)"
   ]
  },
  {
   "cell_type": "code",
   "execution_count": 6,
   "metadata": {},
   "outputs": [
    {
     "name": "stdout",
     "output_type": "stream",
     "text": [
      "2010\n"
     ]
    },
    {
     "name": "stderr",
     "output_type": "stream",
     "text": [
      "<timed exec>:15: RuntimeWarning: invalid value encountered in less\n",
      "<timed exec>:16: RuntimeWarning: invalid value encountered in greater\n",
      "<timed exec>:17: RuntimeWarning: invalid value encountered in less\n"
     ]
    },
    {
     "name": "stdout",
     "output_type": "stream",
     "text": [
      "2011\n",
      "2012\n",
      "2013\n",
      "2014\n",
      "2015\n",
      "2016\n",
      "2017\n",
      "2018\n",
      "2019\n",
      "Wall time: 3min 27s\n"
     ]
    }
   ],
   "source": [
    "%%time\n",
    "each_year_HDD = np.ndarray(shape=(NUM_OF_YEARS, LAT, LON))\n",
    "each_year_CDD = np.ndarray(shape=(NUM_OF_YEARS, LAT, LON))\n",
    "each_year_MPID = np.ndarray(shape=(NUM_OF_YEARS, LAT, LON))\n",
    "for year in range(START_YEAR, END_YEAR):\n",
    "    print(year)\n",
    "    yearly_temp = np.ndarray(shape=(365, LAT, LON))\n",
    "    i = 0\n",
    "    for month in range(1, NUM_OF_MONTHS+1):\n",
    "        for day in range(1, NUM_OF_DAYS[month]+1):\n",
    "            date = \"{}{:02d}{:02d}\".format(year, month, day)\n",
    "            filepath = DATA_FILE_DIR + date + '.nc4'\n",
    "            yearly_temp[i] = get_tmp(filepath)\n",
    "            i += 1\n",
    "    \n",
    "    date_HDD = np.where(yearly_temp<291.15, 291.15-yearly_temp, 0) #291.15 K = 18 oC\n",
    "    date_CDD = np.where(yearly_temp>291.15, yearly_temp-291.15, 0)\n",
    "    date_MPID = np.where(yearly_temp<253.15, 1, 0) # 253.15 K = -20 oC\n",
    "    \n",
    "    each_year_HDD[year-START_YEAR] = date_HDD.sum(axis=0)\n",
    "    each_year_CDD[year-START_YEAR] = date_CDD.sum(axis=0)\n",
    "    each_year_MPID[year-START_YEAR] = date_MPID.sum(axis=0)"
   ]
  },
  {
   "cell_type": "code",
   "execution_count": 64,
   "metadata": {},
   "outputs": [],
   "source": [
    "avg_HDD = each_year_HDD.mean(axis=0)\n",
    "avg_CDD = each_year_CDD.mean(axis=0)\n",
    "avg_MPID = each_year_MPID.mean(axis=0)\n",
    "\n",
    "max_HDD = each_year_HDD.max(axis=0)\n",
    "max_CDD = each_year_CDD.max(axis=0)\n",
    "max_MPID = each_year_MPID.max(axis=0)"
   ]
  },
  {
   "cell_type": "code",
   "execution_count": 65,
   "metadata": {},
   "outputs": [],
   "source": [
    "avg_score = 100 - 0.005*avg_HDD - 0.5*avg_MPID - 0.004*avg_CDD\n",
    "worst_score = 100 - 0.005*max_HDD - 0.5*max_MPID - 0.004*max_CDD"
   ]
  },
  {
   "cell_type": "code",
   "execution_count": 66,
   "metadata": {},
   "outputs": [],
   "source": [
    "avg_score = np.ma.array(avg_score, mask=mask, fill_value=np.nan)\n",
    "worst_score = np.ma.array(max_score, mask=mask, fill_value=np.nan)"
   ]
  },
  {
   "cell_type": "code",
   "execution_count": 67,
   "metadata": {},
   "outputs": [],
   "source": [
    "# minmax scaling\n",
    "scaled_avg_score = 100*(avg_score - np.nanmin(avg_score))/(np.nanmax(avg_score) - np.nanmin(avg_score))\n",
    "scaled_worst_score = 100*(worst_score - np.nanmin(worst_score))/(np.nanmax(worst_score) - np.nanmin(worst_score))"
   ]
  },
  {
   "cell_type": "code",
   "execution_count": 68,
   "metadata": {},
   "outputs": [],
   "source": [
    "# levels to draw contour lines at\n",
    "levels = [0, 10, 20, 30, 40, 50, 60, 70, 80, 90, 100]"
   ]
  },
  {
   "cell_type": "code",
   "execution_count": 69,
   "metadata": {},
   "outputs": [
    {
     "data": {
      "image/png": "[encoded data removed]",
      "text/plain": [
       "<Figure size 432x288 with 1 Axes>"
      ]
     },
     "metadata": {
      "needs_background": "light"
     },
     "output_type": "display_data"
    }
   ],
   "source": [
    "# mesh x and y (lon and lat coordinates)\n",
    "x_mesh, y_mesh = np.meshgrid(lon, lat)\n",
    "\n",
    "# z_mesh\n",
    "z_mesh = scaled_avg_score\n",
    "\n",
    "# create the contour plot\n",
    "contourf = plt.contourf(x_mesh, y_mesh, z_mesh, linestyles=\"None\", levels=levels)"
   ]
  },
  {
   "cell_type": "code",
   "execution_count": 70,
   "metadata": {},
   "outputs": [],
   "source": [
    "os.makedirs(\"./geojson_files\", exist_ok=True)\n",
    "geojsoncontour.contourf_to_geojson(contourf, geojson_filepath=\"./geojson_files/scaled_avg_score.geojson\")"
   ]
  },
  {
   "cell_type": "code",
   "execution_count": 77,
   "metadata": {},
   "outputs": [],
   "source": [
    "levels = [-1000, 10, 20, 30, 40, 50, 60, 70, 80, 90, 100]"
   ]
  },
  {
   "cell_type": "code",
   "execution_count": 78,
   "metadata": {},
   "outputs": [
    {
     "data": {
      "image/png": "[encoded data removed]",
      "text/plain": [
       "<Figure size 432x288 with 1 Axes>"
      ]
     },
     "metadata": {
      "needs_background": "light"
     },
     "output_type": "display_data"
    }
   ],
   "source": [
    "# mesh x and y (lon and lat coordinates)\n",
    "x_mesh, y_mesh = np.meshgrid(lon, lat)\n",
    "\n",
    "# z_mesh\n",
    "z_mesh = avg_score\n",
    "\n",
    "# create the contour plot\n",
    "contourf = plt.contourf(x_mesh, y_mesh, z_mesh, linestyles=\"None\", levels=levels)"
   ]
  },
  {
   "cell_type": "code",
   "execution_count": 73,
   "metadata": {},
   "outputs": [],
   "source": [
    "geojsoncontour.contourf_to_geojson(contourf, geojson_filepath=\"./geojson_files/avg_score.geojson\")"
   ]
  },
  {
   "cell_type": "code",
   "execution_count": 74,
   "metadata": {},
   "outputs": [
    {
     "data": {
      "image/png": "[encoded data removed]",
      "text/plain": [
       "<Figure size 432x288 with 1 Axes>"
      ]
     },
     "metadata": {
      "needs_background": "light"
     },
     "output_type": "display_data"
    }
   ],
   "source": [
    "# mesh x and y (lon and lat coordinates)\n",
    "x_mesh, y_mesh = np.meshgrid(lon, lat)\n",
    "\n",
    "# z_mesh\n",
    "z_mesh = worst_score\n",
    "\n",
    "# create the contour plot\n",
    "contourf = plt.contourf(x_mesh, y_mesh, z_mesh, linestyles=\"None\", levels=levels)"
   ]
  },
  {
   "cell_type": "code",
   "execution_count": 75,
   "metadata": {},
   "outputs": [],
   "source": [
    "geojsoncontour.contourf_to_geojson(contourf, geojson_filepath=\"./geojson_files/worst_score.geojson\")"
   ]
  }
 ],
 "metadata": {
  "kernelspec": {
   "display_name": "Python 3",
   "language": "python",
   "name": "python3"
  },
  "language_info": {
   "codemirror_mode": {
    "name": "ipython",
    "version": 3
   },
   "file_extension": ".py",
   "mimetype": "text/x-python",
   "name": "python",
   "nbconvert_exporter": "python",
   "pygments_lexer": "ipython3",
   "version": "3.8.2"
  }
 },
 "nbformat": 4,
 "nbformat_minor": 4
}
