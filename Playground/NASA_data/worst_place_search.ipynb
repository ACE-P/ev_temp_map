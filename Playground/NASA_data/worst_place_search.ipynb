{
 "cells": [
  {
   "cell_type": "code",
   "execution_count": 1,
   "metadata": {},
   "outputs": [],
   "source": [
    "import os\n",
    "\n",
    "import numpy as np\n",
    "import pandas as pd\n",
    "import netCDF4 as nc"
   ]
  },
  {
   "cell_type": "code",
   "execution_count": 2,
   "metadata": {},
   "outputs": [],
   "source": [
    "DATA_FILE_DIR = \"./nasa/\"\n",
    "\n",
    "START_YEAR, END_YEAR = 2010, 2020\n",
    "\n",
    "NUM_OF_YEARS = END_YEAR - START_YEAR\n",
    "\n",
    "NUM_OF_MONTHS = 12\n",
    "\n",
    "NUM_OF_DAYS = {1: 31, 2: 28, 3: 31, 4: 30, 5: 31, 6: 30, 7: 31, 8: 31, 9: 30, 10: 31, 11: 30, 12: 31}"
   ]
  },
  {
   "cell_type": "code",
   "execution_count": 3,
   "metadata": {},
   "outputs": [],
   "source": [
    "file = nc.Dataset(DATA_FILE_DIR+'20110101.nc4')\n",
    "\n",
    "lat = file.variables['lat'][:].filled()\n",
    "lon = file.variables['lon'][:].filled()\n",
    "mask = file.variables['AvgSurfT_tavg'][0].mask\n",
    "\n",
    "LON = len(lon)\n",
    "LAT = len(lat)\n",
    "\n",
    "file.close()"
   ]
  },
  {
   "cell_type": "code",
   "execution_count": 4,
   "metadata": {},
   "outputs": [],
   "source": [
    "def get_tmp(filepath):\n",
    "    assert os.path.isfile(filepath), '{} does not exist!'.format(filepath)\n",
    "    \n",
    "    file = nc.Dataset(filepath)\n",
    "    temperature = file.variables['AvgSurfT_tavg'][0]\n",
    "    file.close()\n",
    "    return temperature.filled(np.nan)"
   ]
  },
  {
   "cell_type": "code",
   "execution_count": 5,
   "metadata": {},
   "outputs": [
    {
     "name": "stdout",
     "output_type": "stream",
     "text": [
      "2010\n"
     ]
    },
    {
     "name": "stderr",
     "output_type": "stream",
     "text": [
      "<timed exec>:14: RuntimeWarning: invalid value encountered in less\n",
      "<timed exec>:15: RuntimeWarning: invalid value encountered in less\n"
     ]
    },
    {
     "name": "stdout",
     "output_type": "stream",
     "text": [
      "2011\n",
      "2012\n",
      "2013\n",
      "2014\n",
      "2015\n",
      "2016\n",
      "2017\n",
      "2018\n",
      "2019\n",
      "Wall time: 4min 5s\n"
     ]
    }
   ],
   "source": [
    "%%time\n",
    "each_year_HDD = np.ndarray(shape=(NUM_OF_YEARS, LAT, LON))\n",
    "each_year_MPID = np.ndarray(shape=(NUM_OF_YEARS, LAT, LON))\n",
    "for year in range(START_YEAR, END_YEAR):\n",
    "    print(year)\n",
    "    yearly_temp = np.ndarray(shape=(365, LAT, LON))\n",
    "    i = 0\n",
    "    for month in range(1, NUM_OF_MONTHS+1):\n",
    "        for day in range(1, NUM_OF_DAYS[month]+1):\n",
    "            date = \"{}{:02d}{:02d}\".format(year, month, day)\n",
    "            filepath = DATA_FILE_DIR + date + '.nc4'\n",
    "            yearly_temp[i] = get_tmp(filepath)\n",
    "            i += 1\n",
    "    \n",
    "    date_HDD = np.where(yearly_temp<291.15, 291.15-yearly_temp, 0) #291.15 K = 18 oC\n",
    "    date_MPID = np.where(yearly_temp<253.15, 1, 0) # 253.15 K = -20 oC\n",
    "    \n",
    "    each_year_HDD[year-START_YEAR] = date_HDD.sum(axis=0)\n",
    "    each_year_MPID[year-START_YEAR] = date_MPID.sum(axis=0)"
   ]
  },
  {
   "cell_type": "code",
   "execution_count": 6,
   "metadata": {},
   "outputs": [],
   "source": [
    "avg_HDD = each_year_HDD.mean(axis=0)\n",
    "avg_MPID = each_year_MPID.mean(axis=0)"
   ]
  },
  {
   "cell_type": "code",
   "execution_count": 39,
   "metadata": {},
   "outputs": [
    {
     "name": "stdout",
     "output_type": "stream",
     "text": [
      "556 556\n"
     ]
    }
   ],
   "source": [
    "pos_HDD = np.argmax(avg_HDD)\n",
    "print(pos_HDD // LON, pos_HDD % LON)"
   ]
  },
  {
   "cell_type": "code",
   "execution_count": 40,
   "metadata": {
    "scrolled": true
   },
   "outputs": [
    {
     "name": "stdout",
     "output_type": "stream",
     "text": [
      "564 563\n"
     ]
    }
   ],
   "source": [
    "pos_MPID = np.argmax(avg_MPID)\n",
    "print(pos_MPID // LON, pos_MPID % LON)"
   ]
  },
  {
   "cell_type": "code",
   "execution_count": 41,
   "metadata": {},
   "outputs": [
    {
     "data": {
      "text/plain": [
       "248.6"
      ]
     },
     "execution_count": 41,
     "metadata": {},
     "output_type": "execute_result"
    }
   ],
   "source": [
    "avg_MPID[564, 563]"
   ]
  },
  {
   "cell_type": "code",
   "execution_count": 42,
   "metadata": {},
   "outputs": [
    {
     "data": {
      "text/plain": [
       "242.7"
      ]
     },
     "execution_count": 42,
     "metadata": {},
     "output_type": "execute_result"
    }
   ],
   "source": [
    "avg_MPID[556, 556]"
   ]
  },
  {
   "cell_type": "code",
   "execution_count": 43,
   "metadata": {},
   "outputs": [
    {
     "data": {
      "text/plain": [
       "16595.656277465725"
      ]
     },
     "execution_count": 43,
     "metadata": {},
     "output_type": "execute_result"
    }
   ],
   "source": [
    "avg_HDD[564, 563]"
   ]
  },
  {
   "cell_type": "code",
   "execution_count": 44,
   "metadata": {},
   "outputs": [
    {
     "data": {
      "text/plain": [
       "16866.57205047599"
      ]
     },
     "execution_count": 44,
     "metadata": {},
     "output_type": "execute_result"
    }
   ],
   "source": [
    "avg_HDD[556, 556]"
   ]
  }
 ],
 "metadata": {
  "kernelspec": {
   "display_name": "Python 3",
   "language": "python",
   "name": "python3"
  },
  "language_info": {
   "codemirror_mode": {
    "name": "ipython",
    "version": 3
   },
   "file_extension": ".py",
   "mimetype": "text/x-python",
   "name": "python",
   "nbconvert_exporter": "python",
   "pygments_lexer": "ipython3",
   "version": "3.8.2"
  }
 },
 "nbformat": 4,
 "nbformat_minor": 4
}
