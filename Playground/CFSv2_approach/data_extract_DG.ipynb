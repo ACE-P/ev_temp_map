{
 "cells": [
  {
   "cell_type": "code",
   "execution_count": null,
   "metadata": {
    "scrolled": true
   },
   "outputs": [],
   "source": [
    "import os\n",
    "\n",
    "import pandas as pd\n",
    "import numpy as np\n",
    "\n",
    "from scipy.io import netcdf"
   ]
  },
  {
   "cell_type": "code",
   "execution_count": null,
   "metadata": {},
   "outputs": [],
   "source": [
    "DATA_FILE_DIR = './data/'\n",
    "\n",
    "START_YEAR, END_YEAR = 2011, 2020\n",
    "\n",
    "NUM_OF_YEARS = END_YEAR - START_YEAR\n",
    "\n",
    "NUM_OF_MONTHS = 12\n",
    "\n",
    "NUM_OF_DAYS = {1: 31, 2: 28, 3: 31, 4: 30, 5: 31, 6: 30, 7: 31, 8: 31, 9: 30, 10: 31, 11: 30, 12: 31,}"
   ]
  },
  {
   "cell_type": "markdown",
   "metadata": {},
   "source": [
    "A function that opens netCDF file and read temperature variable and get the minimum temperature"
   ]
  },
  {
   "cell_type": "code",
   "execution_count": null,
   "metadata": {},
   "outputs": [],
   "source": [
    "def get_min_tmp(filename):\n",
    "    file = netcdf.netcdf_file(filename, mmap=False)\n",
    "    tmp = file.variables['T_MIN_L103_Pd'].data.copy()\n",
    "    min_tmp = np.ndarray(tmp.shape[1:])\n",
    "\n",
    "    for i in range(tmp.shape[1]):\n",
    "        for j in range(tmp.shape[2]):\n",
    "            min_tmp[i, j] = min(tmp[0, i, j], tmp[1, i, j], tmp[2, i, j], tmp[3, i, j])\n",
    "    \n",
    "    file.close()\n",
    "    return min_tmp"
   ]
  },
  {
   "cell_type": "markdown",
   "metadata": {},
   "source": [
    "Read 9 years of temperature data and take the average/minimum  \n",
    "e.g. date '0417' min_tmp = 20110417_min_tmp + 20130417_min_tmp + ... + 2019_min_tmp"
   ]
  },
  {
   "cell_type": "code",
   "execution_count": null,
   "metadata": {
    "scrolled": false
   },
   "outputs": [],
   "source": [
    "yearly_date_avg, yearly_date_min = {}, {}\n",
    "\n",
    "for month in range(1, NUM_OF_MONTHS+1, 1):\n",
    "    for day in range(1, NUM_OF_DAYS[month]+1, 1):\n",
    "        date_tmps = np.zeros((NUM_OF_YEARS, 151, 361))\n",
    "        \n",
    "        if month < 4: # if month<4, data is from 2012 to 2020\n",
    "            for year in range(START_YEAR+1, END_YEAR+1):\n",
    "                filename = DATA_FILE_DIR + '{}{:02d}{:02d}.nc'.format(year, month, day)\n",
    "                assert os.path.isfile(filename), \"File Not Found: '{}'\".format(filename)\n",
    "                date_tmps[year-START_YEAR-1] = get_min_tmp(filename)\n",
    "        else: # if month>=4, data are from 2011 to 2019\n",
    "            for year in range(START_YEAR, END_YEAR):\n",
    "                filename = DATA_FILE_DIR + '{}{:02d}{:02d}.nc'.format(year, month, day)\n",
    "                assert os.path.isfile(filename), \"File Not Found: '{}'\".format(filename)\n",
    "                date_tmps[year-START_YEAR] = get_min_tmp(filename)\n",
    "        \n",
    "        yearly_date_avg['{:02d}{:02d}'.format(month, day)] = date_tmps.mean(axis=0)\n",
    "        yearly_date_min['{:02d}{:02d}'.format(month, day)] = date_tmps.min(axis=0)"
   ]
  },
  {
   "cell_type": "markdown",
   "metadata": {},
   "source": [
    "First add location columns--lat and lon  \n",
    "Use `int16` type to keep df size small"
   ]
  },
  {
   "cell_type": "code",
   "execution_count": null,
   "metadata": {},
   "outputs": [],
   "source": [
    "filename = DATA_FILE_DIR + '20110401.nc'\n",
    "file = netcdf.netcdf_file(filename, mmap=False)\n",
    "lat = file.variables['lat'].data.copy()\n",
    "lon = file.variables['lon'].data.copy()\n",
    "file.close()"
   ]
  },
  {
   "cell_type": "code",
   "execution_count": null,
   "metadata": {},
   "outputs": [],
   "source": [
    "locations = np.zeros((151*361, 2))\n",
    "for i in range(151):\n",
    "    for j in range(361):\n",
    "        locations[i*361+j] = [lat[i], lon[j]]\n",
    "df = pd.DataFrame(locations, columns=['lat', 'lon'], dtype='int16')"
   ]
  },
  {
   "cell_type": "markdown",
   "metadata": {},
   "source": [
    "Then add minimum temperature for each date iteratively  \n",
    "Use `float16` to keep df size small"
   ]
  },
  {
   "cell_type": "code",
   "execution_count": null,
   "metadata": {},
   "outputs": [],
   "source": [
    "for month in range(1, NUM_OF_MONTHS+1, 1):\n",
    "    for day in range(1, NUM_OF_DAYS[month]+1, 1):\n",
    "        date = '{:02d}{:02d}'.format(month, day)\n",
    "        some_date_tmp = yearly_date_avg[date].reshape(151*361, 1)\n",
    "        df[date] = np.round(some_date_tmp, decimals=2).astype('float16')"
   ]
  },
  {
   "cell_type": "markdown",
   "metadata": {},
   "source": [
    "Save to a .csv file"
   ]
  },
  {
   "cell_type": "code",
   "execution_count": null,
   "metadata": {},
   "outputs": [],
   "source": [
    "df.to_csv('yearly_min.csv', index=False)"
   ]
  }
 ],
 "metadata": {
  "kernelspec": {
   "display_name": "Python 3",
   "language": "python",
   "name": "python3"
  },
  "language_info": {
   "codemirror_mode": {
    "name": "ipython",
    "version": 3
   },
   "file_extension": ".py",
   "mimetype": "text/x-python",
   "name": "python",
   "nbconvert_exporter": "python",
   "pygments_lexer": "ipython3",
   "version": "3.7.6"
  }
 },
 "nbformat": 4,
 "nbformat_minor": 4
}
