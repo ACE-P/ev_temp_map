{
 "cells": [
  {
   "cell_type": "markdown",
   "metadata": {},
   "source": [
    "Before running:  \n",
    "1. `conda install -c conda-forge folium`  \n",
    "2. `pip install geojsoncontour`\n",
    "3. Download and unzip data files from \"UW EV Temperature Map/data/processed_0.2.zip\" or \".../processed_1.0.zip\""
   ]
  },
  {
   "cell_type": "code",
   "execution_count": null,
   "metadata": {},
   "outputs": [],
   "source": [
    "#import os\n",
    "import numpy as np\n",
    "import pandas as pd\n",
    "import folium\n",
    "import branca\n",
    "from folium import plugins\n",
    "from folium.plugins import TimestampedGeoJson\n",
    "import matplotlib.pyplot as plt\n",
    "#from scipy.interpolate import griddata\n",
    "import geojsoncontour\n",
    "#import scipy as sp\n",
    "#import scipy.ndimage\n",
    "import json"
   ]
  },
  {
   "cell_type": "code",
   "execution_count": null,
   "metadata": {},
   "outputs": [],
   "source": [
    "NUM_OF_MONTHS = 12\n",
    "STEP = 14"
   ]
  },
  {
   "cell_type": "code",
   "execution_count": null,
   "metadata": {},
   "outputs": [],
   "source": [
    "# Setup colormap\n",
    "# Copied and modified from ref. 2\n",
    "colors = ['#8C00FF', '#007BFF', '#00C7FF', '#26FF00', '#FFFF00', '#FF7200', '#FF0000']\n",
    "levels = [-70, -40, -20, 0, 10, 20, 40]\n",
    "cm = branca.colormap.LinearColormap(colors=colors)\n",
    "cm = cm.to_step(index=levels)\n",
    "cm"
   ]
  },
  {
   "cell_type": "code",
   "execution_count": null,
   "metadata": {},
   "outputs": [],
   "source": [
    "def date_forward(month, day, step=1):\n",
    "    \"\"\"\n",
    "    a function to forward date. e.g forward 4 days: 0428 ==> 0502\n",
    "    \"\"\"\n",
    "    assert step > 0, \"step must be positive\"\n",
    "    \n",
    "    NUM_OF_DAYS = {1: 31, 2: 28, 3: 31, 4: 30, 5: 31, 6: 30, 7: 31, 8: 31, 9: 30, 10: 31, 11: 30, 12: 31}\n",
    "    day += step;\n",
    "    while (month <= NUM_OF_MONTHS and day > NUM_OF_DAYS[month]):\n",
    "        day -= NUM_OF_DAYS[month]\n",
    "        month += 1\n",
    "    \n",
    "    return month, day"
   ]
  },
  {
   "cell_type": "code",
   "execution_count": null,
   "metadata": {
    "scrolled": true
   },
   "outputs": [],
   "source": [
    "# read lon and lat coordinates. FILES ARE IN OUR GOOGLE DRIVE\n",
    "# WILL CONSIDER USING SOME API TO ACCESS GOOGLE DRIVE FILES\n",
    "# Copied and modified from ref. 1 and 2\n",
    "lon = pd.read_csv('./processed_0.2/lon.csv', index_col=0)\n",
    "lat = pd.read_csv('./processed_0.2/lat.csv', index_col=0)\n",
    "x_mesh, y_mesh = np.meshgrid(lon, lat)\n",
    "\n",
    "data = []\n",
    "month, day = 1, 1\n",
    "while(month <= NUM_OF_MONTHS):\n",
    "    # read temperature data for a given date\n",
    "    date = '{:02d}{:02d}'.format(month, day)\n",
    "    print(date)\n",
    "    filename = './processed_0.2/{}.csv'.format(date)\n",
    "    tmp = pd.read_csv(filename, index_col=0)\n",
    "\n",
    "    # convert to degree celcius\n",
    "    z_mesh = tmp.subtract(273.15).to_numpy()\n",
    "\n",
    "    # create the contour plot\n",
    "    contourf = plt.contourf(x_mesh, y_mesh, z_mesh, alpha=0.5, colors=colors, linestyles='None', levels=levels)\n",
    "\n",
    "    # Convert matplotlib contourf to geojson\n",
    "    geojson = geojsoncontour.contourf_to_geojson(\n",
    "        contourf=contourf,\n",
    "        ndigits=5,\n",
    "        stroke_width=0.5,\n",
    "        fill_opacity=0.5)\n",
    "\n",
    "    d = json.loads(geojson)\n",
    "    len_features=len(d['features'])\n",
    "    # I had to provide a \"full\" time, e.g YYYY-MM-DD HH:mm:ss, otherwise folium won't be happy\n",
    "    # only MM-DD is valid, and others are just random numbers.\n",
    "    for j in range(0, len_features):\n",
    "        d['features'][j]['properties']['time'] = '2019-' + date[:2] + '-' + date[2:] + ' 08:00:00'\n",
    "    if not data:\n",
    "        data.append(d)\n",
    "    else:\n",
    "        for i in range(len(d['features'])):\n",
    "             data[0]['features'].append(d['features'][i])\n",
    "    \n",
    "    month, day = date_forward(month, day, STEP)"
   ]
  },
  {
   "cell_type": "code",
   "execution_count": null,
   "metadata": {},
   "outputs": [],
   "source": [
    "# some data formatting for `TimestampedGeoJson` plots\n",
    "# completely copied from ref. 1\n",
    "dict_act = data[0]\n",
    "for i in range(len(dict_act['features'])):\n",
    "\n",
    "    dict_act['features'][i]['properties']['color']=dict_act['features'][i]['properties'].pop('fill')\n",
    "    dict_act['features'][i]['properties']['weight']=dict_act['features'][i]['properties'].pop('stroke-width')\n",
    "    dict_act['features'][i]['properties']['fillOpacity']=dict_act['features'][i]['properties'].pop('fill-opacity')\n",
    "    properties=dict_act['features'][i]['properties']\n",
    "    gettime=properties.pop('time')\n",
    "    new_properties = {'style': properties, 'time':gettime}\n",
    "    dict_act['features'][i]['properties'] = new_properties"
   ]
  },
  {
   "cell_type": "code",
   "execution_count": null,
   "metadata": {},
   "outputs": [],
   "source": [
    "# more data formatting for plotting multiple multipolygons in `TimestampedGeoJson` plots\n",
    "fmtd_dict = {'features':[], 'type': 'FeatureCollection'}\n",
    "for i in range(len(dict_act['features'])):\n",
    "    for coordinates in dict_act['features'][i]['geometry']['coordinates']:\n",
    "        feature = {'geometry':{'coordinates':[], 'type': 'MultiPolygon'}, 'properties':{}, 'type': 'Feature'}\n",
    "        feature['geometry']['coordinates'] = [coordinates]\n",
    "        feature['properties'] = dict_act['features'][i]['properties']\n",
    "        fmtd_dict['features'].append(feature)"
   ]
  },
  {
   "cell_type": "code",
   "execution_count": null,
   "metadata": {
    "scrolled": false
   },
   "outputs": [],
   "source": [
    "# copied and modified from ref. 1\n",
    "# Set up the folium plot\n",
    "geomap = folium.Map([0, 180], zoom_start=1.5, tiles=\"cartodbpositron\")\n",
    "\n",
    "# Plot the contour plot on folium\n",
    "TimestampedGeoJson(\n",
    "    fmtd_dict,\n",
    "    period='P14D',\n",
    "    duration='P1D',\n",
    "    transition_time=500,\n",
    "    date_options='MM-DD',\n",
    "    auto_play=False,\n",
    "    loop_button=True,\n",
    "    ).add_to(geomap)\n",
    "\n",
    "# Add the colormap to the folium map\n",
    "cm.caption = 'Temperature(°C)'\n",
    "geomap.add_child(cm)"
   ]
  },
  {
   "cell_type": "code",
   "execution_count": null,
   "metadata": {},
   "outputs": [],
   "source": [
    "# completely copied from ref. 2\n",
    "# Fullscreen mode\n",
    "plugins.Fullscreen(position='topright', force_separate_button=True).add_to(geomap)\n",
    " \n",
    "# Plot the data\n",
    "geomap.save('./folium_contour_temperature_map.html')"
   ]
  },
  {
   "cell_type": "markdown",
   "metadata": {},
   "source": [
    "references: \n",
    "1. https://github.com/samirak93/snow/blob/master/Complete_Notebook.ipynb\n",
    "2. https://www.tjansson.dk/2018/10/contour-map-in-folium/ "
   ]
  }
 ],
 "metadata": {
  "kernelspec": {
   "display_name": "Python 3",
   "language": "python",
   "name": "python3"
  },
  "language_info": {
   "codemirror_mode": {
    "name": "ipython",
    "version": 3
   },
   "file_extension": ".py",
   "mimetype": "text/x-python",
   "name": "python",
   "nbconvert_exporter": "python",
   "pygments_lexer": "ipython3",
   "version": "3.7.6"
  }
 },
 "nbformat": 4,
 "nbformat_minor": 4
}
