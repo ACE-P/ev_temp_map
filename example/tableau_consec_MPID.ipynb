{
 "cells": [
  {
   "cell_type": "markdown",
   "metadata": {},
   "source": [
    "# Maximum consecutive MPID\n",
    "MPID is already calculated as part of the information in `tableau_pixel_info.ipynb`. The reason that we calculate MPID again in this notebook and make contour map is to avoid more complexity to the other notebook  \n",
    "This notebook calculates the maximum consecutive must plug in days (MPID), draws a contour map and save the map to a geojson file that will later be read by Tableau"
   ]
  },
  {
   "cell_type": "markdown",
   "metadata": {},
   "source": [
    "**Before running: `pip install geojsoncontour`**"
   ]
  },
  {
   "cell_type": "code",
   "execution_count": 1,
   "metadata": {},
   "outputs": [],
   "source": [
    "import sys\n",
    "sys.path.append('..')\n",
    "\n",
    "import os\n",
    "\n",
    "import geojsoncontour\n",
    "import matplotlib.pyplot as plt\n",
    "import numpy as np\n",
    "import pandas as pd\n",
    "\n",
    "from ev_temp_map.utils import get_lat_lon_mask\n",
    "from ev_temp_map.utils import get_temperature"
   ]
  },
  {
   "cell_type": "markdown",
   "metadata": {},
   "source": [
    "## Count maximum consecutive MPID\n",
    "Define some constants"
   ]
  },
  {
   "cell_type": "code",
   "execution_count": 2,
   "metadata": {},
   "outputs": [],
   "source": [
    "DATA_FILE_DIR = \"./data/nasa/\"\n",
    "\n",
    "START_YEAR, END_YEAR = 2010, 2020\n",
    "\n",
    "NUM_OF_YEARS = END_YEAR - START_YEAR\n",
    "\n",
    "NUM_OF_MONTHS = 12\n",
    "\n",
    "NUM_OF_DAYS = {1: 31, 2: 28, 3: 31, 4: 30, 5: 31, 6: 30, 7: 31, 8: 31, 9: 30, 10: 31, 11: 30, 12: 31}"
   ]
  },
  {
   "cell_type": "markdown",
   "metadata": {},
   "source": [
    "The source data format is `netCDF4`.  \n",
    "First, We need to use any of the source files to extract latitudes, longitudes and land-ocean mask"
   ]
  },
  {
   "cell_type": "code",
   "execution_count": 3,
   "metadata": {},
   "outputs": [],
   "source": [
    "LAT, LON, MASK = get_lat_lon_mask(DATA_FILE_DIR+\"20200101.nc4\")"
   ]
  },
  {
   "cell_type": "markdown",
   "metadata": {},
   "source": [
    "Count the max consec MPID  \n",
    "Algorithm: Keep two counters. One records the current consec MPID, and the other records the max consec MPID it has seen so far. After counting one day's MPID, compare the two and keep the larger one. Use `np.where` to adapt this algo to count on arrays  \n",
    "NOTE: `<timed exec>:14: RuntimeWarning: invalid value encountered in less` is due to `nan` values, which we can safely ignore"
   ]
  },
  {
   "cell_type": "code",
   "execution_count": 4,
   "metadata": {
    "scrolled": true
   },
   "outputs": [
    {
     "name": "stdout",
     "output_type": "stream",
     "text": [
      "2010 2011 2012 2013 2014 2015 2016 2017 2018 2019 Finished!\n",
      "\n",
      "Wall time: 2min 52s\n"
     ]
    }
   ],
   "source": [
    "%%time\n",
    "# max_MPID will record the max MPID of all places\n",
    "max_MPID = np.ndarray(shape=(len(LAT), len(LON)))\n",
    "# curr_MPID will count the consecutive MPID we have seen so far (the counter)\n",
    "curr_MPID = np.ndarray(shape=(len(LAT), len(LON)))\n",
    "\n",
    "for year in range(START_YEAR, END_YEAR):\n",
    "    print(year, end=' ')\n",
    "    for month in range(1, NUM_OF_MONTHS+1):\n",
    "        for day in range(1, NUM_OF_DAYS[month]+1):\n",
    "            date = \"{}{:02d}{:02d}\".format(year, month, day)\n",
    "            filepath = DATA_FILE_DIR + date + '.nc4'\n",
    "            date_temp = get_temperature(filepath)\n",
    "            \n",
    "            # if this place has MPID on this day (temp<253.15K),\n",
    "            # then curr_MPID+1\n",
    "            # else, this place has no MPID on this day, which means not\n",
    "            # consecutive, so we reset the counter to 0;\n",
    "            curr_MPID = np.where(date_temp < 253.15, curr_MPID+1, 0)\n",
    "            # this is equivalent to A = max(A, B)\n",
    "            max_MPID = np.where(curr_MPID > max_MPID, curr_MPID, max_MPID)\n",
    "            \n",
    "print(\"Finished!\\n\")"
   ]
  },
  {
   "cell_type": "markdown",
   "metadata": {},
   "source": [
    "Take a look at the `max_MPID`"
   ]
  },
  {
   "cell_type": "code",
   "execution_count": 5,
   "metadata": {},
   "outputs": [
    {
     "data": {
      "text/plain": [
       "array([[0., 0., 0., ..., 0., 0., 0.],\n",
       "       [0., 0., 0., ..., 0., 0., 0.],\n",
       "       [0., 0., 0., ..., 0., 0., 0.],\n",
       "       ...,\n",
       "       [0., 0., 0., ..., 0., 0., 0.],\n",
       "       [0., 0., 0., ..., 0., 0., 0.],\n",
       "       [0., 0., 0., ..., 0., 0., 0.]])"
      ]
     },
     "execution_count": 5,
     "metadata": {},
     "output_type": "execute_result"
    }
   ],
   "source": [
    "max_MPID"
   ]
  },
  {
   "cell_type": "markdown",
   "metadata": {},
   "source": [
    "We can only see zeros because those are the sea. We use the mask that we extract in the beginning to filter data"
   ]
  },
  {
   "cell_type": "code",
   "execution_count": 6,
   "metadata": {},
   "outputs": [],
   "source": [
    "# we have to specify `dtype=float` because the fill_value `np.nan` is a special floating point value\n",
    "max_MPID = np.ma.array(max_MPID, dtype=float, mask=MASK, fill_value=np.nan)"
   ]
  },
  {
   "cell_type": "code",
   "execution_count": 7,
   "metadata": {},
   "outputs": [
    {
     "data": {
      "text/plain": [
       "255.0"
      ]
     },
     "execution_count": 7,
     "metadata": {},
     "output_type": "execute_result"
    }
   ],
   "source": [
    "# max consec MPID of the last 10 years on the Earth\n",
    "max_MPID.max()"
   ]
  },
  {
   "cell_type": "code",
   "execution_count": 8,
   "metadata": {},
   "outputs": [
    {
     "name": "stdout",
     "output_type": "stream",
     "text": [
      "Location: (80.125, -41.375)\n"
     ]
    }
   ],
   "source": [
    "# get the location of the place that has max consec MPID of the last 10 years on the Earth\n",
    "# it is in the middle of Greenland if you search for this location in Google map :)\n",
    "max_loc = np.argmax(max_MPID)\n",
    "max_lat = max_loc // len(LON)\n",
    "max_lon = max_loc % len(LAT)\n",
    "print('Location: ({}, {})'.format(LAT[max_lat], LON[max_lon]))"
   ]
  },
  {
   "cell_type": "markdown",
   "metadata": {},
   "source": [
    "## Draw the contour map"
   ]
  },
  {
   "cell_type": "code",
   "execution_count": 9,
   "metadata": {},
   "outputs": [],
   "source": [
    "# levels to draw contour lines at\n",
    "levels = [-1, 0, 1, 7, 14, 30, 60, 90, 120, 150, 180, 210, 240, 270]"
   ]
  },
  {
   "cell_type": "code",
   "execution_count": 10,
   "metadata": {},
   "outputs": [
    {
     "data": {
      "image/png": "[encoded data removed]",
      "text/plain": [
       "<Figure size 432x288 with 1 Axes>"
      ]
     },
     "metadata": {
      "needs_background": "light"
     },
     "output_type": "display_data"
    }
   ],
   "source": [
    "# mesh x and y (lon and lat coordinates)\n",
    "x_mesh, y_mesh = np.meshgrid(LON, LAT)\n",
    "\n",
    "# z_mesh\n",
    "z_mesh = max_MPID\n",
    "\n",
    "# create the contour plot\n",
    "# the color of the map doesn't matter as long as the contours are correct,\n",
    "# because Tableau won't read any color information\n",
    "contourf = plt.contourf(x_mesh, y_mesh, z_mesh, linestyles=\"None\", levels=levels)"
   ]
  },
  {
   "cell_type": "markdown",
   "metadata": {},
   "source": [
    "save the map in geojson format"
   ]
  },
  {
   "cell_type": "code",
   "execution_count": 11,
   "metadata": {},
   "outputs": [],
   "source": [
    "os.makedirs(\"./geojson_files\", exist_ok=True)\n",
    "geojsoncontour.contourf_to_geojson(contourf, geojson_filepath=\"./geojson_files/max_consec_MPID.geojson\")"
   ]
  }
 ],
 "metadata": {
  "kernelspec": {
   "display_name": "Python 3",
   "language": "python",
   "name": "python3"
  },
  "language_info": {
   "codemirror_mode": {
    "name": "ipython",
    "version": 3
   },
   "file_extension": ".py",
   "mimetype": "text/x-python",
   "name": "python",
   "nbconvert_exporter": "python",
   "pygments_lexer": "ipython3",
   "version": "3.8.2"
  }
 },
 "nbformat": 4,
 "nbformat_minor": 4
}
