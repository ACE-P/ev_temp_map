{
 "cells": [
  {
   "cell_type": "markdown",
   "metadata": {},
   "source": [
    "# Use Cases of EV Temperature Map\n",
    "\n"
   ]
  },
  {
   "cell_type": "markdown",
   "metadata": {},
   "source": [
    "This notebook describes some of the potential use cases for the EV Temperature Map created in this project."
   ]
  },
  {
   "cell_type": "markdown",
   "metadata": {},
   "source": [
    "## Use Case 1\n",
    "\n",
    "**USER CASE**: Wants to know the temperature effect on the range of their EV at a certain time of your based off of their location.\n",
    "\n",
    "**MAP Provides**: \n",
    "- Average temperature of the location for a certain day\n",
    "- Minimum and maximum temperature of a location for a certain day\n",
    "- How many days in a year they will experience different brackets of ranges:\n",
    "    - E.g. How many days the temperature will be in certain temperature ranges (for example, between -20$^{\\circ}$C and 0$^{\\circ}$C which results in X% decrease in range)\n",
    "    \n",
    "\n",
    "## Use Case 2\n",
    "\n",
    "**USER CASE**: Potential EV purchaser living in an extremely cold area wants to know longevity and temperature effects on their battery if they buy an EV in their location.\n",
    "\n",
    "People living in Fairbanks, for example, wants to know\n",
    "- If it's worth buying an EV\n",
    "- How much battery should be charged enough to, or if they can really, reach a certain destination\n",
    "- How many days can their car stand parked in a garage without degradation of the battery\n",
    "- How serious will the degradation be\n",
    "- If the battery is enough to heat inside of the vehicle during a trip\n",
    "\n",
    "**MAP Provides**: \n",
    "- How many days in a year they will experience different brackets of ranges\n",
    "    - This will give a yearly degredation of battery capacity/range\n",
    "    - Output: %Capacity/range loss/year for location on map\n",
    "- When it is recommended to plug in EV to combat battery damage\n",
    "- Help guide decision on potential need for insulated garage to store EV\n",
    "\n",
    "\n",
    "## Use Case 3\n",
    "\n",
    "**USER CASE**: Researchers need more information to be assured with the practicability of domesticating electric transportations into cold areas such as Alaska.\n",
    "\n",
    "**Map Provides**:\n",
    "- HDD for a given location and expected battery degradation\n",
    "- Ocean temperature information for electric boats *(this can be removed)*\n",
    "\n",
    "\n",
    "## Use Case 4\n",
    "\n",
    "**USER CASE**: Potential EV manufactureres/salesperson helping clients choose between models or EV vs. hybrid based on their location.\n",
    "\n",
    "**Map Provides**:\n",
    "- They might use this map to possibly recommend drivers to choose rather hybrid(electric+combustible) model and which area they better go combustion mode\n"
   ]
  },
  {
   "cell_type": "markdown",
   "metadata": {},
   "source": [
    "Example from use case 1:\n",
    "<img src=\"use_case_1.png\">"
   ]
  },
  {
   "cell_type": "code",
   "execution_count": null,
   "metadata": {},
   "outputs": [],
   "source": []
  }
 ],
 "metadata": {
  "kernelspec": {
   "display_name": "Python 3",
   "language": "python",
   "name": "python3"
  },
  "language_info": {
   "codemirror_mode": {
    "name": "ipython",
    "version": 3
   },
   "file_extension": ".py",
   "mimetype": "text/x-python",
   "name": "python",
   "nbconvert_exporter": "python",
   "pygments_lexer": "ipython3",
   "version": "3.7.4"
  },
  "toc": {
   "base_numbering": 1,
   "nav_menu": {},
   "number_sections": true,
   "sideBar": true,
   "skip_h1_title": false,
   "title_cell": "Table of Contents",
   "title_sidebar": "Contents",
   "toc_cell": false,
   "toc_position": {},
   "toc_section_display": true,
   "toc_window_display": false
  },
  "varInspector": {
   "cols": {
    "lenName": 16,
    "lenType": 16,
    "lenVar": 40
   },
   "kernels_config": {
    "python": {
     "delete_cmd_postfix": "",
     "delete_cmd_prefix": "del ",
     "library": "var_list.py",
     "varRefreshCmd": "print(var_dic_list())"
    },
    "r": {
     "delete_cmd_postfix": ") ",
     "delete_cmd_prefix": "rm(",
     "library": "var_list.r",
     "varRefreshCmd": "cat(var_dic_list()) "
    }
   },
   "types_to_exclude": [
    "module",
    "function",
    "builtin_function_or_method",
    "instance",
    "_Feature"
   ],
   "window_display": false
  }
 },
 "nbformat": 4,
 "nbformat_minor": 4
}
