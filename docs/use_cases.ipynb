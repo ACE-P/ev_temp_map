{
 "cells": [
  {
   "cell_type": "markdown",
   "metadata": {},
   "source": [
    "# Use Cases of EV Temperature Map\n",
    "\n"
   ]
  },
  {
   "cell_type": "markdown",
   "metadata": {},
   "source": [
    "This notebook describes some of the potential use cases for the EV Temperature Map created in this project."
   ]
  },
  {
   "cell_type": "markdown",
   "metadata": {},
   "source": [
    "## Use Case 1\n",
    "\n",
    "**USER CASE**: Wants to know the temperature effect on the range of their EV at a certain time of your based off of their location.\n",
    "\n",
    "**MAP Provides**: \n",
    "- Average temperature of the location for a certain day\n",
    "- Minimum and maximum temperature of a location for a certain day\n",
    "- How many days in a year they will experience different brackets of ranges:\n",
    "    - E.g. How many days the temperature will be in certain temperature ranges (for example, between -20$^{\\circ}$C and 0$^{\\circ}$C which results in X% decrease in range)\n",
    "    \n",
    "\n",
    "## Use Case 2\n",
    "\n",
    "**USER CASE**: Potential EV purchaser wants to know longevity and temperature effects on their battery if they buy an EV in their location\n",
    "\n",
    "**MAP Provides**: \n",
    "- How many days in a year they will experience different brackets of ranges\n",
    "    - This will give a yearly degredation of battery capacity/range\n",
    "    - Output: %Capacity/range loss/year for location on map\n",
    "- When it is recommended to plug in EV to combat battery damage\n",
    "- Help guide decision on potential need for insulated garage to store EV\n",
    "\n",
    "\n",
    "## Use Case 3\n",
    "\n",
    "**USER CASE**: Potentail EV manufactureres/salesperson helping clients choose between models or EV vs. hybrid based on their location\n",
    "\n",
    "**Map Provides**:\n",
    "- They might use this map to possibly recommend drivers to choose rather hybrid(electric+combustible) model and which area they better go combustion mode.\n"
   ]
  },
  {
   "cell_type": "markdown",
   "metadata": {},
   "source": [
    "Example from use case 1:\n",
    "<img src=\"use_case_1.png\">"
   ]
  },
  {
   "cell_type": "code",
   "execution_count": null,
   "metadata": {},
   "outputs": [],
   "source": []
  }
 ],
 "metadata": {
  "kernelspec": {
   "display_name": "Python 3",
   "language": "python",
   "name": "python3"
  },
  "language_info": {
   "codemirror_mode": {
    "name": "ipython",
    "version": 3
   },
   "file_extension": ".py",
   "mimetype": "text/x-python",
   "name": "python",
   "nbconvert_exporter": "python",
   "pygments_lexer": "ipython3",
   "version": "3.7.4"
  }
 },
 "nbformat": 4,
 "nbformat_minor": 4
}
