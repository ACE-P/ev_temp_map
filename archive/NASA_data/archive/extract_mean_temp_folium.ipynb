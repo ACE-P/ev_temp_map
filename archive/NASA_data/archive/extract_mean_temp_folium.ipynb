{
 "cells": [
  {
   "cell_type": "code",
   "execution_count": null,
   "metadata": {
    "scrolled": true
   },
   "outputs": [],
   "source": [
    "import os\n",
    "\n",
    "import pandas as pd\n",
    "import netCDF4 as nc\n",
    "import numpy as np\n",
    "import matplotlib.pyplot as plt"
   ]
  },
  {
   "cell_type": "code",
   "execution_count": null,
   "metadata": {},
   "outputs": [],
   "source": [
    "DATA_FILE_DIR = './data/'\n",
    "\n",
    "START_YEAR, END_YEAR = 2010, 2020\n",
    "\n",
    "NUM_OF_YEARS = END_YEAR - START_YEAR\n",
    "\n",
    "NUM_OF_MONTHS = 12\n",
    "\n",
    "NUM_OF_DAYS = {1: 31, 2: 28, 3: 31, 4: 30, 5: 31, 6: 30, 7: 31, 8: 31, 9: 30, 10: 31, 11: 30, 12: 31,}"
   ]
  },
  {
   "cell_type": "code",
   "execution_count": null,
   "metadata": {},
   "outputs": [],
   "source": [
    "file = nc.Dataset('./data/20110101.nc4')\n",
    "lat = file.variables['lat'][:].filled()\n",
    "lon = file.variables['lon'][:].filled()\n",
    "tmp = file.variables['AvgSurfT_tavg'][0]\n",
    "num_of_loc = tmp.size - tmp.mask.sum()\n",
    "file.close()"
   ]
  },
  {
   "cell_type": "code",
   "execution_count": null,
   "metadata": {},
   "outputs": [],
   "source": [
    "LAT = lat.size\n",
    "LON = lon.size"
   ]
  },
  {
   "cell_type": "code",
   "execution_count": null,
   "metadata": {},
   "outputs": [],
   "source": [
    "def get_tmp(filepath):\n",
    "    assert os.path.isfile(filepath), '{} does not exist!'.format(filepath)\n",
    "    \n",
    "    file = nc.Dataset(filepath)\n",
    "    temperature = file.variables['AvgSurfT_tavg'][0]\n",
    "    file.close()\n",
    "    return temperature.filled(np.nan)"
   ]
  },
  {
   "cell_type": "code",
   "execution_count": null,
   "metadata": {
    "scrolled": true
   },
   "outputs": [],
   "source": [
    "os.makedirs(\"./processed_mean_folium\", exist_ok=True)\n",
    "for month in range(1, NUM_OF_MONTHS+1):\n",
    "    for day in range(1, NUM_OF_DAYS[month]+1):\n",
    "        date = '{:02d}{:02d}'.format(month, day)\n",
    "        print(date)\n",
    "        temps = np.ndarray(shape=(NUM_OF_YEARS, LAT, LON))\n",
    "        for year in range(START_YEAR, END_YEAR):\n",
    "            day = str(year) + date\n",
    "            filepath = DATA_FILE_DIR + day + '.nc4'\n",
    "            temps[year-START_YEAR] = get_tmp(filepath)\n",
    "            \n",
    "        mean_temps = np.nanmin(temps, axis=0)\n",
    "        mean_temps = mean_temps - 273.15\n",
    "        mean_temps = pd.DataFrame(mean_temps)\n",
    "        mean_temps = pd.DataFrame.round(mean_temps, decimals=1)\n",
    "        mean_temps.to_csv('./processed_mean_folium/{}.csv'.format(date))"
   ]
  },
  {
   "cell_type": "code",
   "execution_count": null,
   "metadata": {},
   "outputs": [],
   "source": [
    "pd.DataFrame(lat).to_csv('./processed_mean_folium/lat.csv')\n",
    "pd.DataFrame(lon).to_csv('./processed_mean_folium/lon.csv')"
   ]
  }
 ],
 "metadata": {
  "kernelspec": {
   "display_name": "Python 3",
   "language": "python",
   "name": "python3"
  },
  "language_info": {
   "codemirror_mode": {
    "name": "ipython",
    "version": 3
   },
   "file_extension": ".py",
   "mimetype": "text/x-python",
   "name": "python",
   "nbconvert_exporter": "python",
   "pygments_lexer": "ipython3",
   "version": "3.8.2"
  }
 },
 "nbformat": 4,
 "nbformat_minor": 4
}
